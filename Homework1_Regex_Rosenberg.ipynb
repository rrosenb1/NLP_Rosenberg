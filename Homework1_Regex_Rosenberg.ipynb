{
 "cells": [
  {
   "cell_type": "code",
   "execution_count": 2,
   "metadata": {},
   "outputs": [],
   "source": [
    "import re"
   ]
  },
  {
   "cell_type": "code",
   "execution_count": 164,
   "metadata": {},
   "outputs": [],
   "source": [
    "text = '''We are very excited for the Christmas party next month on 12-12-19. As such, we need to prepare \n",
    "food and decorations for the event. Debbie will be heading up food preparation; if you would \n",
    "like to be a part of her team, please contact debbie101@gmail.com by December 4 2019. Judy will be leading \n",
    "decorations for the event; if you would like to work with her, please contact judybee43@aol.net by 11/29/19.\n",
    "Alan will take the lead on the White Elephant portion of the event; if you would like to help Alan out,\n",
    "please reach out to alanjones@jones.jo by December 3, 2019. If you don't have time but would like to donate\n",
    "money to the event, please contact the studio at admin@namaskaryoga.com after November 30, 2019 and before 12-11-19 \n",
    "so that we have time to appropriately allocate funds between Debbie, Judy, and Alan. Thank you! \n",
    "'''"
   ]
  },
  {
   "cell_type": "code",
   "execution_count": 165,
   "metadata": {},
   "outputs": [
    {
     "name": "stdout",
     "output_type": "stream",
     "text": [
      "['debbie101@gmail.com', 'judybee43@aol.net', 'alanjones@jones.jo', 'admin@namaskaryoga.com']\n"
     ]
    }
   ],
   "source": [
    "emails = re.compile(r\"\\b\\w*@\\w*.\\w*\\b\")\n",
    "print(emails.findall(text))"
   ]
  },
  {
   "cell_type": "code",
   "execution_count": 148,
   "metadata": {},
   "outputs": [
    {
     "name": "stdout",
     "output_type": "stream",
     "text": [
      "['12-12-19', 'December 4 2019', '11/29/19', 'December 3, 2019', 'November 30, 2019', '12-11-19']\n"
     ]
    }
   ],
   "source": [
    "dates = re.compile(r'''[0-9]{2}/[0-9]{2}/[0-9]{2}|\n",
    "                |[0-9]{2}-[0-9]{2}-[0-9]{2}|\n",
    "                |January\\s[0-9]{1,2},{0,1}\\s[0-9]{0,4}|\n",
    "                |February\\s[0-9]{1,2},{0,1}\\s[0-9]{0,4}|\n",
    "                |March\\s[0-9]{1,2},{0,1}\\s[0-9]{0,4}|\n",
    "                |April\\s[0-9]{1,2},{0,1}\\s[0-9]{0,4}|\n",
    "                |May\\s[0-9]{1,2},{0,1}\\s[0-9]{0,4}|\n",
    "                |June\\s[0-9]{1,2},{0,1}\\s[0-9]{0,4}|\n",
    "                |July\\s[0-9]{1,2},{0,1}\\s[0-9]{0,4}|\n",
    "                |August\\s[0-9]{1,2},{0,1}\\s[0-9]{0,4}|\n",
    "                |September\\s[0-9]{1,2},{0,1}\\s[0-9]{0,4}|\n",
    "                |October\\s[0-9]{1,2},{0,1}\\s[0-9]{0,4}|\n",
    "                |November\\s[0-9]{1,2},{0,1}\\s[0-9]{0,4}|\n",
    "                |December\\s[0-9]{1,2},{0,1}\\s[0-9]{0,4}''', flags = re.DOTALL)\n",
    "\n",
    "print(dates.findall(text))"
   ]
  },
  {
   "cell_type": "code",
   "execution_count": null,
   "metadata": {},
   "outputs": [],
   "source": []
  },
  {
   "cell_type": "code",
   "execution_count": null,
   "metadata": {},
   "outputs": [],
   "source": []
  }
 ],
 "metadata": {
  "kernelspec": {
   "display_name": "nlp_kernel",
   "language": "python",
   "name": "nlp_kernel"
  },
  "language_info": {
   "codemirror_mode": {
    "name": "ipython",
    "version": 3
   },
   "file_extension": ".py",
   "mimetype": "text/x-python",
   "name": "python",
   "nbconvert_exporter": "python",
   "pygments_lexer": "ipython3",
   "version": "3.6.9"
  }
 },
 "nbformat": 4,
 "nbformat_minor": 2
}
