{
 "cells": [
  {
   "cell_type": "markdown",
   "metadata": {},
   "source": [
    "## Analysis in NLTK"
   ]
  },
  {
   "cell_type": "code",
   "execution_count": 9,
   "metadata": {},
   "outputs": [],
   "source": [
    "import pandas as pd"
   ]
  },
  {
   "cell_type": "code",
   "execution_count": 21,
   "metadata": {},
   "outputs": [
    {
     "name": "stdout",
     "output_type": "stream",
     "text": [
      "/Users/rachelrosenberg/MSiA/490 - Text Analytics\n"
     ]
    }
   ],
   "source": [
    "import os\n",
    "print (os.getcwd())"
   ]
  },
  {
   "cell_type": "code",
   "execution_count": 49,
   "metadata": {},
   "outputs": [],
   "source": [
    "# sci = pd.read_csv(\"~/MSiA/490 - Text Analytics/20news-18828/sci.space/59846\", error_bad_lines=False)\n",
    "path = \"20news-18828/sci.space/59846.txt\"\n",
    "\n",
    "with open(path, \"r\") as myfile:\n",
    "    sci = myfile.read().split('\\n')"
   ]
  },
  {
   "cell_type": "code",
   "execution_count": 50,
   "metadata": {},
   "outputs": [
    {
     "data": {
      "text/plain": [
       "['From: leech@cs.unc.edu (Jon Leech)',\n",
       " 'Subject: Space FAQ 06/15 - Constants and Equations',\n",
       " '',\n",
       " 'Archive-name: space/constants',\n",
       " 'Last-modified: $Date: 93/04/01 14:39:04 $',\n",
       " '',\n",
       " 'CONSTANTS AND EQUATIONS FOR CALCULATIONS',\n",
       " '',\n",
       " '    This list was originally compiled by Dale Greer. Additions would be',\n",
       " '    appreciated.',\n",
       " '',\n",
       " '    Numbers in parentheses are approximations that will serve for most',\n",
       " '    blue-skying purposes.',\n",
       " '',\n",
       " \"    Unix systems provide the 'units' program, useful in converting\",\n",
       " '    between different systems (metric/English, etc.)',\n",
       " '',\n",
       " '    NUMBERS',\n",
       " '',\n",
       " '\\t7726 m/s\\t (8000)  -- Earth orbital velocity at 300 km altitude',\n",
       " '\\t3075 m/s\\t (3000)  -- Earth orbital velocity at 35786 km (geosync)',\n",
       " '\\t6371 km\\t\\t (6400)  -- Mean radius of Earth',\n",
       " '\\t6378 km\\t\\t (6400)  -- Equatorial radius of Earth',\n",
       " '\\t1738 km\\t\\t (1700)  -- Mean radius of Moon',\n",
       " '\\t5.974e24 kg\\t (6e24)  -- Mass of Earth',\n",
       " '\\t7.348e22 kg\\t (7e22)  -- Mass of Moon',\n",
       " '\\t1.989e30 kg\\t (2e30)  -- Mass of Sun',\n",
       " '\\t3.986e14 m^3/s^2 (4e14)  -- Gravitational constant times mass of Earth',\n",
       " '\\t4.903e12 m^3/s^2 (5e12)  -- Gravitational constant times mass of Moon',\n",
       " '\\t1.327e20 m^3/s^2 (13e19) -- Gravitational constant times mass of Sun',\n",
       " '\\t384401 km\\t ( 4e5)  -- Mean Earth-Moon distance',\n",
       " '\\t1.496e11 m\\t (15e10) -- Mean Earth-Sun distance (Astronomical Unit)',\n",
       " '',\n",
       " '\\t1 megaton (MT) TNT = about 4.2e15 J or the energy equivalent of',\n",
       " '\\tabout .05 kg (50 gm) of matter. Ref: J.R Williams, \"The Energy Level',\n",
       " '\\tof Things\", Air Force Special Weapons Center (ARDC), Kirtland Air',\n",
       " '\\tForce Base, New Mexico, 1963. Also see \"The Effects of Nuclear',\n",
       " '\\tWeapons\", compiled by S. Glasstone and P.J. Dolan, published by the',\n",
       " '\\tUS Department of Defense (obtain from the GPO).',\n",
       " '',\n",
       " '    EQUATIONS',\n",
       " '',\n",
       " '\\tWhere d is distance, v is velocity, a is acceleration, t is time.',\n",
       " '\\tAdditional more specialized equations are available from:',\n",
       " '',\n",
       " '\\t    ames.arc.nasa.gov:pub/SPACE/FAQ/MoreEquations',\n",
       " '',\n",
       " '',\n",
       " '\\tFor constant acceleration',\n",
       " '\\t    d = d0 + vt + .5at^2',\n",
       " '\\t    v = v0 + at',\n",
       " '\\t  v^2 = 2ad',\n",
       " '',\n",
       " '\\tAcceleration on a cylinder (space colony, etc.) of radius r and',\n",
       " '\\t    rotation period t:',\n",
       " '',\n",
       " '\\t    a = 4 pi**2 r / t^2',\n",
       " '',\n",
       " '\\tFor circular Keplerian orbits where:',\n",
       " '\\t    Vc\\t = velocity of a circular orbit',\n",
       " '\\t    Vesc = escape velocity',\n",
       " '\\t    M\\t = Total mass of orbiting and orbited bodies',\n",
       " '\\t    G\\t = Gravitational constant (defined below)',\n",
       " '\\t    u\\t = G * M (can be measured much more accurately than G or M)',\n",
       " '\\t    K\\t = -G * M / 2 / a',\n",
       " '\\t    r\\t = radius of orbit (measured from center of mass of system)',\n",
       " '\\t    V\\t = orbital velocity',\n",
       " '\\t    P\\t = orbital period',\n",
       " '\\t    a\\t = semimajor axis of orbit',\n",
       " '',\n",
       " '\\t    Vc\\t = sqrt(M * G / r)',\n",
       " '\\t    Vesc = sqrt(2 * M * G / r) = sqrt(2) * Vc',\n",
       " '\\t    V^2  = u/a',\n",
       " '\\t    P\\t = 2 pi/(Sqrt(u/a^3))',\n",
       " '\\t    K\\t = 1/2 V**2 - G * M / r (conservation of energy)',\n",
       " '',\n",
       " '\\t    The period of an eccentric orbit is the same as the period',\n",
       " '\\t       of a circular orbit with the same semi-major axis.',\n",
       " '',\n",
       " '\\tChange in velocity required for a plane change of angle phi in a',\n",
       " '\\tcircular orbit:',\n",
       " '',\n",
       " '\\t    delta V = 2 sqrt(GM/r) sin (phi/2)',\n",
       " '',\n",
       " '\\tEnergy to put mass m into a circular orbit (ignores rotational',\n",
       " '\\tvelocity, which reduces the energy a bit).',\n",
       " '',\n",
       " '\\t    GMm (1/Re - 1/2Rcirc)',\n",
       " '\\t    Re = radius of the earth',\n",
       " '\\t    Rcirc = radius of the circular orbit.',\n",
       " '',\n",
       " '\\tClassical rocket equation, where',\n",
       " '\\t    dv\\t= change in velocity',\n",
       " '\\t    Isp = specific impulse of engine',\n",
       " '\\t    Ve\\t= exhaust velocity',\n",
       " '\\t    x\\t= reaction mass',\n",
       " '\\t    m1\\t= rocket mass excluding reaction mass',\n",
       " '\\t    g\\t= 9.80665 m / s^2',\n",
       " '',\n",
       " '\\t    Ve\\t= Isp * g',\n",
       " '\\t    dv\\t= Ve * ln((m1 + x) / m1)',\n",
       " '\\t\\t= Ve * ln((final mass) / (initial mass))',\n",
       " '',\n",
       " '\\tRelativistic rocket equation (constant acceleration)',\n",
       " '',\n",
       " '\\t    t (unaccelerated) = c/a * sinh(a*t/c)',\n",
       " '\\t    d = c**2/a * (cosh(a*t/c) - 1)',\n",
       " '\\t    v = c * tanh(a*t/c)',\n",
       " '',\n",
       " '\\tRelativistic rocket with exhaust velocity Ve and mass ratio MR:',\n",
       " '',\n",
       " '\\t    at/c = Ve/c * ln(MR), or',\n",
       " '',\n",
       " '\\t    t (unaccelerated) = c/a * sinh(Ve/c * ln(MR))',\n",
       " '\\t    d = c**2/a * (cosh(Ve/C * ln(MR)) - 1)',\n",
       " '\\t    v = c * tanh(Ve/C * ln(MR))',\n",
       " '',\n",
       " '\\tConverting from parallax to distance:',\n",
       " '',\n",
       " '\\t    d (in parsecs) = 1 / p (in arc seconds)',\n",
       " '\\t    d (in astronomical units) = 206265 / p',\n",
       " '',\n",
       " '\\tMiscellaneous',\n",
       " '\\t    f=ma    -- Force is mass times acceleration',\n",
       " '\\t    w=fd    -- Work (energy) is force times distance',\n",
       " '',\n",
       " '\\tAtmospheric density varies as exp(-mgz/kT) where z is altitude, m is',\n",
       " '\\tmolecular weight in kg of air, g is local acceleration of gravity, T',\n",
       " \"\\tis temperature, k is Bolztmann's constant. On Earth up to 100 km,\",\n",
       " '',\n",
       " '\\t    d = d0*exp(-z*1.42e-4)',\n",
       " '',\n",
       " '\\twhere d is density, d0 is density at 0km, is approximately true, so',\n",
       " '',\n",
       " '\\t    d@12km (40000 ft) = d0*.18',\n",
       " '\\t    d@9 km (30000 ft) = d0*.27',\n",
       " '\\t    d@6 km (20000 ft) = d0*.43',\n",
       " '\\t    d@3 km (10000 ft) = d0*.65',\n",
       " '',\n",
       " '\\t\\t    Atmospheric scale height\\tDry lapse rate',\n",
       " '\\t\\t    (in km at emission level)\\t (K/km)',\n",
       " '\\t\\t    -------------------------\\t--------------',\n",
       " '\\t    Earth\\t    7.5\\t\\t\\t    9.8',\n",
       " '\\t    Mars\\t    11\\t\\t\\t    4.4',\n",
       " '\\t    Venus\\t    4.9\\t\\t\\t    10.5',\n",
       " '\\t    Titan\\t    18\\t\\t\\t    1.3',\n",
       " '\\t    Jupiter\\t    19\\t\\t\\t    2.0',\n",
       " '\\t    Saturn\\t    37\\t\\t\\t    0.7',\n",
       " '\\t    Uranus\\t    24\\t\\t\\t    0.7',\n",
       " '\\t    Neptune\\t    21\\t\\t\\t    0.8',\n",
       " '\\t    Triton\\t    8\\t\\t\\t    1',\n",
       " '',\n",
       " '\\tTitius-Bode Law for approximating planetary distances:',\n",
       " '',\n",
       " '\\t    R(n) = 0.4 + 0.3 * 2^N Astronomical Units (N = -infinity for',\n",
       " '\\t    Mercury, 0 for Venus, 1 for Earth, etc.)',\n",
       " '',\n",
       " '\\t    This fits fairly well except for Neptune.',\n",
       " '',\n",
       " '    CONSTANTS',\n",
       " '',\n",
       " '\\t6.62618e-34 J-s  (7e-34) -- Planck\\'s Constant \"h\"',\n",
       " '\\t1.054589e-34 J-s (1e-34) -- Planck\\'s Constant / (2 * PI), \"h bar\"',\n",
       " '\\t1.3807e-23 J/K\\t(1.4e-23) - Boltzmann\\'s Constant \"k\"',\n",
       " '\\t5.6697e-8 W/m^2/K (6e-8) -- Stephan-Boltzmann Constant \"sigma\"',\n",
       " '    6.673e-11 N m^2/kg^2 (7e-11) -- Newton\\'s Gravitational Constant \"G\"',\n",
       " '\\t0.0029 m K\\t (3e-3)  -- Wien\\'s Constant \"sigma(W)\"',\n",
       " '\\t3.827e26 W\\t (4e26)  -- Luminosity of Sun',\n",
       " '\\t1370 W / m^2\\t (1400)  -- Solar Constant (intensity at 1 AU)',\n",
       " '\\t6.96e8 m\\t (7e8)\\t -- radius of Sun',\n",
       " '\\t1738 km\\t\\t (2e3)\\t -- radius of Moon',\n",
       " '\\t299792458 m/s\\t  (3e8)  -- speed of light in vacuum \"c\"',\n",
       " '\\t9.46053e15 m\\t  (1e16) -- light year',\n",
       " '\\t206264.806 AU\\t  (2e5)  -- \\\\',\n",
       " '\\t3.2616 light years (3)\\t --  --> parsec',\n",
       " '\\t3.0856e16 m\\t (3e16)  -- /',\n",
       " '',\n",
       " '',\n",
       " 'Black Hole radius (also called Schwarzschild Radius):',\n",
       " '',\n",
       " \"\\t2GM/c^2, where G is Newton's Grav Constant, M is mass of BH,\",\n",
       " '\\t\\tc is speed of light',\n",
       " '',\n",
       " '    Things to add (somebody look them up!)',\n",
       " '\\tBasic rocketry numbers & equations',\n",
       " '\\tAerodynamical stuff',\n",
       " '\\tEnergy to put a pound into orbit or accelerate to interstellar',\n",
       " '\\t    velocities.',\n",
       " '\\tNon-circular cases?',\n",
       " '',\n",
       " '',\n",
       " 'NEXT: FAQ #7/15 - Astronomical Mnemonics',\n",
       " '']"
      ]
     },
     "execution_count": 50,
     "metadata": {},
     "output_type": "execute_result"
    }
   ],
   "source": [
    "sci[:500]"
   ]
  },
  {
   "cell_type": "markdown",
   "metadata": {},
   "source": [
    "### Tokenize"
   ]
  },
  {
   "cell_type": "code",
   "execution_count": 51,
   "metadata": {},
   "outputs": [
    {
     "name": "stdout",
     "output_type": "stream",
     "text": [
      "['From', ':', 'leech', '@', 'cs.unc.edu', '(', 'Jon', 'Leech', ')']\n",
      "['Subject', ':', 'Space', 'FAQ', '06/15', '-', 'Constants', 'and', 'Equations']\n",
      "[]\n",
      "['Archive-name', ':', 'space/constants']\n",
      "['Last-modified', ':', '$', 'Date', ':', '93/04/01', '14:39:04', '$']\n",
      "[]\n",
      "['CONSTANTS', 'AND', 'EQUATIONS', 'FOR', 'CALCULATIONS']\n",
      "[]\n",
      "['This', 'list', 'was', 'originally', 'compiled', 'by', 'Dale', 'Greer', '.', 'Additions', 'would', 'be']\n",
      "['appreciated', '.']\n"
     ]
    }
   ],
   "source": [
    "from nltk.tokenize import word_tokenize, sent_tokenize\n",
    "\n",
    "for i in range(0, 10):\n",
    "    print(word_tokenize(sci[i]))"
   ]
  },
  {
   "cell_type": "code",
   "execution_count": null,
   "metadata": {},
   "outputs": [],
   "source": []
  },
  {
   "cell_type": "markdown",
   "metadata": {},
   "source": [
    "### Stem"
   ]
  },
  {
   "cell_type": "code",
   "execution_count": 62,
   "metadata": {},
   "outputs": [
    {
     "data": {
      "text/plain": [
       "'From: leech@cs.unc.edu (Jon Leech)\\nSubject: Space FAQ 06/15 - Constants and Equations\\n\\nArchive-name: space/constants\\nLast-modified: $Date: 93/04/01 14:39:04 $\\n\\nCONSTANTS AND EQUATIONS FOR CALCULATIONS'"
      ]
     },
     "execution_count": 62,
     "metadata": {},
     "output_type": "execute_result"
    }
   ],
   "source": [
    "with open(path, \"r\") as myfile:\n",
    "    sci = myfile.read()\n",
    "\n",
    "sci[:200]"
   ]
  },
  {
   "cell_type": "code",
   "execution_count": 77,
   "metadata": {},
   "outputs": [
    {
     "name": "stdout",
     "output_type": "stream",
     "text": [
      "['from', 'leechcsuncedu', 'jon', 'leech', 'subject', 'space', 'faq', '0000', '', 'constants', 'and', 'equations', 'archivename', 'spaceconstants', 'lastmodified', 'date', '000000', '000000', '', 'constants', 'and', 'equations', 'for', 'calculations', 'this', 'list', 'was', 'originally', 'compiled', 'by', 'dale', 'greer', 'additions', 'would', 'be', 'appreciated', 'numbers', 'in', 'parentheses', 'are', 'approximations', 'that', 'will', 'serve', 'for', 'most', 'blueskying', 'purposes', 'unix', 'systems', 'provide', 'the', 'units', 'program', 'useful', 'in', 'converting', 'between', 'different', 'systems', 'metricenglish', 'etc', 'numbers', '0000', 'ms', '0000', '', 'earth', 'orbital', 'velocity', 'at', '000', 'km', 'altitude', '0000', 'ms', '0000', '', 'earth', 'orbital', 'velocity', 'at', '00000', 'km', 'geosync', '0000', 'km', '0000', '', 'mean', 'radius', 'of', 'earth', '0000', 'km', '0000', '', 'equatorial', 'radius', 'of']\n"
     ]
    }
   ],
   "source": [
    "import string\n",
    "\n",
    "# split into words by white space\n",
    "words = sci.split()\n",
    "\n",
    "# remove punctuation from each word\n",
    "table = str.maketrans('', '', string.punctuation)\n",
    "stripped = [w.translate(table) for w in words]\n",
    "\n",
    "# convert to lower case\n",
    "words = [word.lower() for word in stripped]\n",
    "\n",
    "# replace numbers with \"0\" (we don't care what the actual number is)\n",
    "words_replaced = []\n",
    "for word in range(0, len(words)):\n",
    "    words_replaced.append(re.sub(r'[0-9]', '0', words[word]))\n",
    "print(words_replaced[:100])"
   ]
  },
  {
   "cell_type": "code",
   "execution_count": 116,
   "metadata": {},
   "outputs": [
    {
     "name": "stdout",
     "output_type": "stream",
     "text": [
      "['from', 'leechcsuncedu', 'jon', 'leech', 'subject', 'space', 'faq', '0000', '', 'constant', 'and', 'equat', 'archivenam', 'spaceconst', 'lastmodifi', 'date', '000000', '000000', '', 'constant', 'and', 'equat', 'for', 'calcul', 'thi', 'list', 'wa', 'origin', 'compil', 'by', 'dale', 'greer', 'addit', 'would', 'be', 'appreci', 'number', 'in', 'parenthes', 'are', 'approxim', 'that', 'will', 'serv', 'for', 'most', 'blueski', 'purpos', 'unix', 'system', 'provid', 'the', 'unit', 'program', 'use', 'in', 'convert', 'between', 'differ', 'system', 'metricenglish', 'etc', 'number', '0000', 'ms', '0000', '', 'earth', 'orbit', 'veloc', 'at', '000', 'km', 'altitud', '0000', 'ms', '0000', '', 'earth', 'orbit', 'veloc', 'at', '00000', 'km', 'geosync', '0000', 'km', '0000', '', 'mean', 'radiu', 'of', 'earth', '0000', 'km', '0000', '', 'equatori', 'radiu', 'of', 'earth', '0000', 'km', '0000', '', 'mean', 'radiu', 'of', 'moon', '0000e00', 'kg', '0e00', '', 'mass', 'of', 'earth', '0000e00', 'kg', '0e00', '', 'mass', 'of', 'moon', '0000e00', 'kg', '0e00', '', 'mass', 'of', 'sun', '0000e00', 'm0s0', '0e00', '', 'gravit', 'constant', 'time', 'mass', 'of', 'earth', '0000e00', 'm0s0', '0e00', '', 'gravit', 'constant', 'time', 'mass', 'of', 'moon', '0000e00', 'm0s0', '00e00', '', 'gravit', 'constant', 'time', 'mass', 'of', 'sun', '000000', 'km', '', '0e0', '', 'mean', 'earthmoon', 'distanc', '0000e00', 'm', '00e00', '', 'mean', 'earthsun', 'distanc', 'astronom', 'unit', '0', 'megaton', 'mt', 'tnt', '', 'about', '00e00', 'j', 'or', 'the', 'energi', 'equival', 'of', 'about', '00', 'kg', '00', 'gm', 'of', 'matter', 'ref', 'jr', 'william', 'the', 'energi', 'level', 'of', 'thing', 'air', 'forc', 'special', 'weapon', 'center', 'ardc', 'kirtland', 'air', 'forc', 'base', 'new', 'mexico', '0000', 'also', 'see', 'the', 'effect', 'of', 'nuclear', 'weapon', 'compil', 'by', 's', 'glasston', 'and', 'pj', 'dolan', 'publish', 'by', 'the', 'us', 'depart', 'of', 'defens', 'obtain', 'from', 'the', 'gpo', 'equat', 'where', 'd', 'is', 'distanc', 'v', 'is', 'veloc', 'a', 'is', 'acceler', 't', 'is', 'time', 'addit', 'more', 'special', 'equat', 'are', 'avail', 'from', 'amesarcnasagovpubspacefaqmoreequ', 'for', 'constant', 'acceler', 'd', '', 'd0', '', 'vt', '', '0at0', 'v', '', 'v0', '', 'at', 'v0', '', '0ad', 'acceler', 'on', 'a', 'cylind', 'space', 'coloni', 'etc', 'of', 'radiu', 'r', 'and', 'rotat', 'period', 't', 'a', '', '0', 'pi0', 'r', '', 't0', 'for', 'circular', 'keplerian', 'orbit', 'where', 'vc', '', 'veloc', 'of', 'a', 'circular', 'orbit', 'vesc', '', 'escap', 'veloc', 'm', '', 'total', 'mass', 'of', 'orbit', 'and', 'orbit', 'bodi', 'g', '', 'gravit', 'constant', 'defin', 'below', 'u', '', 'g', '', 'm', 'can', 'be', 'measur', 'much', 'more', 'accur', 'than', 'g', 'or', 'm', 'k', '', 'g', '', 'm', '', '0', '', 'a', 'r', '', 'radiu', 'of', 'orbit', 'measur', 'from', 'center', 'of', 'mass', 'of', 'system', 'v', '', 'orbit', 'veloc', 'p', '', 'orbit', 'period', 'a', '', 'semimajor', 'axi', 'of', 'orbit', 'vc', '', 'sqrtm', '', 'g', '', 'r', 'vesc', '', 'sqrt0', '', 'm', '', 'g', '', 'r', '', 'sqrt0', '', 'vc', 'v0', '', 'ua', 'p', '', '0', 'pisqrtua0', 'k', '', '00', 'v0', '', 'g', '', 'm', '', 'r', 'conserv', 'of', 'energi', 'the', 'period', 'of', 'an', 'eccentr', 'orbit', 'is', 'the', 'same', 'as', 'the', 'period', 'of', 'a', 'circular', 'orbit', 'with', 'the', 'same', 'semimajor', 'axi', 'chang', 'in', 'veloc', 'requir', 'for', 'a', 'plane', 'chang', 'of', 'angl', 'phi', 'in', 'a', 'circular', 'orbit', 'delta', 'v', '', '0', 'sqrtgmr', 'sin', 'phi0', 'energi', 'to', 'put', 'mass', 'm', 'into', 'a', 'circular', 'orbit', 'ignor', 'rotat', 'veloc', 'which', 'reduc', 'the', 'energi', 'a', 'bit', 'gmm', '0re', '', '00rcirc', 're', '', 'radiu', 'of', 'the', 'earth', 'rcirc', '', 'radiu', 'of']\n"
     ]
    }
   ],
   "source": [
    "from nltk.stem import PorterStemmer\n",
    "\n",
    "tokenized = word_tokenize(sci)\n",
    "\n",
    "ps = PorterStemmer()\n",
    "\n",
    "words_stemmed = []\n",
    "\n",
    "for word in words_replaced:\n",
    "    words_stemmed.append(ps.stem(word))\n",
    "\n",
    "print(words_stemmed[:500])"
   ]
  },
  {
   "cell_type": "markdown",
   "metadata": {},
   "source": [
    "### POS Tag"
   ]
  },
  {
   "cell_type": "code",
   "execution_count": 80,
   "metadata": {},
   "outputs": [
    {
     "name": "stderr",
     "output_type": "stream",
     "text": [
      "[nltk_data] Downloading package averaged_perceptron_tagger to\n",
      "[nltk_data]     /Users/rachelrosenberg/nltk_data...\n",
      "[nltk_data]   Unzipping taggers/averaged_perceptron_tagger.zip.\n"
     ]
    },
    {
     "data": {
      "text/plain": [
       "True"
      ]
     },
     "execution_count": 80,
     "metadata": {},
     "output_type": "execute_result"
    }
   ],
   "source": [
    "# nltk.download('averaged_perceptron_tagger')"
   ]
  },
  {
   "cell_type": "code",
   "execution_count": 123,
   "metadata": {},
   "outputs": [
    {
     "data": {
      "text/plain": [
       "[('from', 'IN'),\n",
       " ('leechcsuncedu', 'JJ'),\n",
       " ('jon', 'NN'),\n",
       " ('leech', 'NN'),\n",
       " ('subject', 'JJ'),\n",
       " ('space', 'NN'),\n",
       " ('faq', 'NN'),\n",
       " ('0000', 'CD'),\n",
       " ('constant', 'NN'),\n",
       " ('and', 'CC'),\n",
       " ('equat', 'NN'),\n",
       " ('archivenam', 'NN'),\n",
       " ('spaceconst', 'NN'),\n",
       " ('lastmodifi', 'NN'),\n",
       " ('date', 'NN'),\n",
       " ('000000', 'CD'),\n",
       " ('000000', 'CD'),\n",
       " ('constant', 'JJ'),\n",
       " ('and', 'CC'),\n",
       " ('equat', 'NN'),\n",
       " ('for', 'IN'),\n",
       " ('calcul', 'NN'),\n",
       " ('thi', 'JJ'),\n",
       " ('list', 'NN'),\n",
       " ('wa', 'NN'),\n",
       " ('origin', 'IN'),\n",
       " ('compil', 'NN'),\n",
       " ('by', 'IN'),\n",
       " ('dale', 'JJ'),\n",
       " ('greer', 'NN'),\n",
       " ('addit', 'NN'),\n",
       " ('would', 'MD'),\n",
       " ('be', 'VB'),\n",
       " ('appreci', 'JJ'),\n",
       " ('number', 'NN'),\n",
       " ('in', 'IN'),\n",
       " ('parenthes', 'NNS'),\n",
       " ('are', 'VBP'),\n",
       " ('approxim', 'JJ'),\n",
       " ('that', 'WDT'),\n",
       " ('will', 'MD'),\n",
       " ('serv', 'VB'),\n",
       " ('for', 'IN'),\n",
       " ('most', 'JJS'),\n",
       " ('blueski', 'JJ'),\n",
       " ('purpos', 'NN'),\n",
       " ('unix', 'JJ'),\n",
       " ('system', 'NN'),\n",
       " ('provid', 'VBZ'),\n",
       " ('the', 'DT'),\n",
       " ('unit', 'NN'),\n",
       " ('program', 'NN'),\n",
       " ('use', 'NN'),\n",
       " ('in', 'IN'),\n",
       " ('convert', 'NN'),\n",
       " ('between', 'IN'),\n",
       " ('differ', 'NN'),\n",
       " ('system', 'NN'),\n",
       " ('metricenglish', 'JJ'),\n",
       " ('etc', 'FW'),\n",
       " ('number', 'NN'),\n",
       " ('0000', 'CD'),\n",
       " ('ms', 'NN'),\n",
       " ('0000', 'CD'),\n",
       " ('earth', 'NN'),\n",
       " ('orbit', 'JJ'),\n",
       " ('veloc', 'NN'),\n",
       " ('at', 'IN'),\n",
       " ('000', 'CD'),\n",
       " ('km', 'NNS'),\n",
       " ('altitud', 'JJ'),\n",
       " ('0000', 'CD'),\n",
       " ('ms', 'NN'),\n",
       " ('0000', 'CD'),\n",
       " ('earth', 'NN'),\n",
       " ('orbit', 'JJ'),\n",
       " ('veloc', 'NN'),\n",
       " ('at', 'IN'),\n",
       " ('00000', 'CD'),\n",
       " ('km', 'NNS'),\n",
       " ('geosync', 'JJ'),\n",
       " ('0000', 'CD'),\n",
       " ('km', 'NN'),\n",
       " ('0000', 'CD'),\n",
       " ('mean', 'JJ'),\n",
       " ('radiu', 'NN'),\n",
       " ('of', 'IN'),\n",
       " ('earth', 'NN'),\n",
       " ('0000', 'CD'),\n",
       " ('km', 'NN'),\n",
       " ('0000', 'CD'),\n",
       " ('equatori', 'JJ'),\n",
       " ('radiu', 'NN'),\n",
       " ('of', 'IN'),\n",
       " ('earth', 'NN'),\n",
       " ('0000', 'CD'),\n",
       " ('km', 'NN'),\n",
       " ('0000', 'CD'),\n",
       " ('mean', 'NN'),\n",
       " ('radiu', 'NN')]"
      ]
     },
     "execution_count": 123,
     "metadata": {},
     "output_type": "execute_result"
    }
   ],
   "source": [
    "# len(words_stemmed)\n",
    "words_stemmed.remove('')\n",
    "nltk.pos_tag(words_stemmed[0:100])"
   ]
  },
  {
   "cell_type": "code",
   "execution_count": null,
   "metadata": {},
   "outputs": [],
   "source": []
  },
  {
   "cell_type": "markdown",
   "metadata": {},
   "source": [
    "## Analysis in Spacy"
   ]
  },
  {
   "cell_type": "code",
   "execution_count": 112,
   "metadata": {},
   "outputs": [],
   "source": [
    "from spacy.lang.en import English\n",
    "\n",
    "nlp = spacy.load('en')"
   ]
  },
  {
   "cell_type": "code",
   "execution_count": 113,
   "metadata": {},
   "outputs": [],
   "source": [
    "# sci = pd.read_csv(\"~/MSiA/490 - Text Analytics/20news-18828/sci.space/59846\", error_bad_lines=False)\n",
    "path = \"20news-18828/sci.space/59846.txt\"\n",
    "\n",
    "with open(path, \"r\") as myfile:\n",
    "    sci = myfile.read()"
   ]
  },
  {
   "cell_type": "code",
   "execution_count": 114,
   "metadata": {},
   "outputs": [
    {
     "data": {
      "text/plain": [
       "['From: leech@cs.unc.edu (Jon Leech)\\nSubject: Space FAQ 06/15 - Constants and Equations\\n\\nArchive-name: space/constants\\nLast-modified: $Date: 93/04/01 14:39:04 $\\n\\nCONSTANTS AND EQUATIONS FOR CALCULATIONS\\n\\n    This list was originally compiled by Dale Greer.',\n",
       " 'Additions would be\\n    appreciated.',\n",
       " 'Numbers in parentheses are approximations that will serve for most\\n    blue-skying purposes.',\n",
       " \"Unix systems provide the 'units' program, useful in converting\\n    between different systems (metric/English, etc.)\",\n",
       " 'NUMBERS\\n\\n\\t7726 m/s\\t (8000)  -- Earth orbital velocity at 300 km altitude\\n\\t3075 m/s\\t (3000)  -- Earth orbital velocity at 35786 km (geosync)\\n\\t6371 km\\t\\t (6400)  -- Mean radius of Earth\\n\\t6378 km\\t\\t (6400)  -- Equatorial radius of Earth\\n\\t1738 km\\t\\t (1700)  -- Mean radius of Moon\\n\\t5.974e24 kg\\t (6e24)  -- Mass of Earth\\n\\t7.348e22 kg\\t (7e22)  -- Mass of Moon\\n\\t1.989e30 kg\\t (2e30)  -- Mass of Sun\\n\\t3.986e14 m^3/s^2 (4e14)  -- Gravitational constant times mass of Earth\\n\\t4.903e12 m^3/s^2 (5e12)  -- Gravitational constant times mass of Moon\\n\\t1.327e20 m^3/s^2 (13e19) -- Gravitational constant times mass of Sun\\n\\t384401 km\\t ( 4e5)  -- Mean Earth-Moon distance\\n\\t1.496e11 m\\t (15e10) -- Mean Earth-Sun distance (Astronomical Unit)\\n\\n\\t1 megaton (MT) TNT = about 4.2e15 J or the energy equivalent of\\n\\tabout .05 kg (50 gm) of matter.',\n",
       " 'Ref: J.R Williams, \"The Energy Level\\n\\tof Things\", Air Force Special Weapons Center (ARDC), Kirtland Air\\n\\tForce Base, New Mexico, 1963.',\n",
       " 'Also see \"The Effects of Nuclear\\n\\tWeapons\", compiled by S. Glasstone and P.J. Dolan, published by the\\n\\tUS Department of Defense (obtain from the GPO).',\n",
       " 'EQUATIONS\\n\\n\\tWhere d is distance, v is velocity, a is acceleration, t is time.',\n",
       " 'Additional more specialized equations are available from:\\n\\n\\t    ames.arc.nasa.gov:pub/SPACE/FAQ/MoreEquations\\n\\n\\n\\tFor constant acceleration\\n\\t    d = d0 + vt + .5at^2\\n\\t    v = v0 + at\\n\\t  v^2 = 2ad\\n\\n\\tAcceleration on a cylinder (space colony, etc.)',\n",
       " 'of radius r and\\n\\t    rotation period t:\\n\\n\\t    a = 4 pi**2 r / t^2\\n\\n\\tFor circular Keplerian orbits where:\\n\\t    Vc\\t = velocity of a circular orbit\\n\\t    Vesc = escape velocity\\n\\t    M\\t = Total mass of orbiting and orbited bodies\\n\\t    G\\t = Gravitational constant (defined below)\\n\\t    u\\t = G * M (can be measured much more accurately than G or M)\\n\\t    K\\t = -G * M / 2 / a\\n\\t    r\\t = radius of orbit (measured from center of mass of system)\\n\\t    V\\t = orbital velocity\\n\\t    P\\t = orbital period\\n\\t    a\\t = semimajor axis of orbit\\n\\n\\t    Vc\\t = sqrt(M * G / r)\\n\\t    Vesc = sqrt(2 * M * G / r) = sqrt(2) * Vc\\n\\t    V^2  = u/a\\n\\t    P\\t = 2 pi/(Sqrt(u/a^3))\\n\\t    K\\t = 1/2 V**2 - G * M / r (conservation of energy)\\n\\n\\t    The period of an eccentric orbit is the same as the period\\n\\t       of a circular orbit with the same semi-major axis.',\n",
       " 'Change in velocity required for a plane change of angle phi in a\\n\\tcircular orbit:\\n\\n\\t    delta V = 2 sqrt(GM/r) sin (phi/2)\\n\\n\\tEnergy to put mass m into a circular orbit (ignores rotational\\n\\tvelocity, which reduces the energy a bit).',\n",
       " 'GMm (1/Re - 1/2Rcirc)\\n\\t    Re = radius of the earth\\n\\t    Rcirc = radius of the circular orbit.',\n",
       " \"Classical rocket equation, where\\n\\t    dv\\t= change in velocity\\n\\t    Isp = specific impulse of engine\\n\\t    Ve\\t= exhaust velocity\\n\\t    x\\t= reaction mass\\n\\t    m1\\t= rocket mass excluding reaction mass\\n\\t    g\\t= 9.80665 m / s^2\\n\\n\\t    Ve\\t= Isp * g\\n\\t    dv\\t= Ve * ln((m1 + x) / m1)\\n\\t\\t= Ve * ln((final mass) / (initial mass))\\n\\n\\tRelativistic rocket equation (constant acceleration)\\n\\n\\t    t (unaccelerated) = c/a * sinh(a*t/c)\\n\\t    d = c**2/a * (cosh(a*t/c) - 1)\\n\\t    v = c * tanh(a*t/c)\\n\\n\\tRelativistic rocket with exhaust velocity Ve and mass ratio MR:\\n\\n\\t    at/c = Ve/c * ln(MR), or\\n\\n\\t    t (unaccelerated) = c/a * sinh(Ve/c * ln(MR))\\n\\t    d = c**2/a * (cosh(Ve/C * ln(MR)) - 1)\\n\\t    v = c * tanh(Ve/C * ln(MR))\\n\\n\\tConverting from parallax to distance:\\n\\n\\t    d (in parsecs) = 1 / p (in arc seconds)\\n\\t    d (in astronomical units) = 206265 / p\\n\\n\\tMiscellaneous\\n\\t    f=ma    -- Force is mass times acceleration\\n\\t    w=fd    -- Work (energy) is force times distance\\n\\n\\tAtmospheric density varies as exp(-mgz/kT) where z is altitude, m is\\n\\tmolecular weight in kg of air, g is local acceleration of gravity, T\\n\\tis temperature, k is Bolztmann's constant.\",\n",
       " 'On Earth up to 100 km,\\n\\n\\t    d = d0*exp(-z*1.42e-4)\\n\\n\\twhere d is density, d0 is density at 0km, is approximately true, so\\n\\n\\t    d@12km (40000 ft) = d0*.18\\n\\t    d@9 km (30000 ft) = d0*.27\\n\\t    d@6 km (20000 ft) = d0*.43\\n\\t    d@3 km (10000 ft) = d0*.65\\n\\n\\t\\t    Atmospheric scale height\\tDry lapse rate\\n\\t\\t    (in km at emission level)\\t (K/km)\\n\\t\\t    -------------------------\\t--------------\\n\\t    Earth\\t    7.5\\t\\t\\t    9.8\\n\\t    Mars\\t    11\\t\\t\\t    4.4\\n\\t    Venus\\t    4.9\\t\\t\\t    10.5\\n\\t    Titan\\t    18\\t\\t\\t    1.3\\n\\t    Jupiter\\t    19\\t\\t\\t    2.0\\n\\t    Saturn\\t    37\\t\\t\\t    0.7\\n\\t    Uranus\\t    24\\t\\t\\t    0.7\\n\\t    Neptune\\t    21\\t\\t\\t    0.8\\n\\t    Triton\\t    8\\t\\t\\t    1\\n\\n\\tTitius-Bode Law for approximating planetary distances:\\n\\n\\t    R(n) = 0.4 + 0.3 * 2^N Astronomical Units (N = -infinity for\\n\\t    Mercury, 0 for Venus, 1 for Earth, etc.)',\n",
       " 'This fits fairly well except for Neptune.',\n",
       " 'CONSTANTS\\n\\n\\t6.62618e-34 J-s  (7e-34) -- Planck\\'s Constant \"h\"\\n\\t1.054589e-34 J-s (1e-34) -- Planck\\'s Constant / (2 * PI), \"h bar\"\\n\\t1.3807e-23 J/K\\t(1.4e-23) - Boltzmann\\'s Constant \"k\"\\n\\t5.6697e-8 W/m^2/K (6e-8) -- Stephan-Boltzmann Constant \"sigma\"\\n    6.673e-11 N m^2/kg^2 (7e-11) -- Newton\\'s Gravitational Constant \"G\"\\n\\t0.0029 m K\\t (3e-3)  -- Wien\\'s Constant \"sigma(W)\"\\n\\t3.827e26 W\\t (4e26)  -- Luminosity of Sun\\n\\t1370 W / m^2\\t (1400)  -- Solar Constant (intensity at 1 AU)\\n\\t6.96e8 m\\t (7e8)\\t -- radius of Sun\\n\\t1738 km\\t\\t (2e3)\\t -- radius of Moon\\n\\t299792458 m/s\\t  (3e8)  -- speed of light in vacuum \"c\"\\n\\t9.46053e15 m\\t  (1e16) -- light year\\n\\t206264.806 AU\\t  (2e5)  -- \\\\\\n\\t3.2616 light years (3)\\t --  --> parsec\\n\\t3.0856e16 m\\t (3e16)  -- /\\n\\n\\nBlack Hole radius (also called Schwarzschild Radius):\\n\\n\\t2GM/c^2, where G is Newton\\'s Grav Constant, M is mass of BH,\\n\\t\\tc is speed of light\\n\\n    Things to add (somebody look them up!)',\n",
       " 'Basic rocketry numbers & equations\\n\\tAerodynamical stuff\\n\\tEnergy to put a pound into orbit or accelerate to interstellar\\n\\t    velocities.',\n",
       " 'Non-circular cases?',\n",
       " 'NEXT: FAQ #7/15 - Astronomical Mnemonics']"
      ]
     },
     "execution_count": 114,
     "metadata": {},
     "output_type": "execute_result"
    }
   ],
   "source": [
    "nlp = English() \n",
    "nlp.add_pipe(nlp.create_pipe('sentencizer'))\n",
    "doc = nlp(sci) \n",
    "[sent.string.strip() for sent in doc.sents]"
   ]
  },
  {
   "cell_type": "markdown",
   "metadata": {},
   "source": [
    "### Tokenize"
   ]
  },
  {
   "cell_type": "code",
   "execution_count": 115,
   "metadata": {},
   "outputs": [
    {
     "data": {
      "text/plain": [
       "['From',\n",
       " ':',\n",
       " 'leech@cs.unc.edu',\n",
       " '(',\n",
       " 'Jon',\n",
       " 'Leech',\n",
       " ')',\n",
       " '\\n',\n",
       " 'Subject',\n",
       " ':',\n",
       " 'Space',\n",
       " 'FAQ',\n",
       " '06/15',\n",
       " '-',\n",
       " 'Constants',\n",
       " 'and',\n",
       " 'Equations',\n",
       " '\\n\\n',\n",
       " 'Archive',\n",
       " '-',\n",
       " 'name',\n",
       " ':',\n",
       " 'space',\n",
       " '/',\n",
       " 'constants',\n",
       " '\\n',\n",
       " 'Last',\n",
       " '-',\n",
       " 'modified',\n",
       " ':']"
      ]
     },
     "execution_count": 115,
     "metadata": {},
     "output_type": "execute_result"
    }
   ],
   "source": [
    "tokens = [token.text for token in doc]\n",
    "tokens[:30]"
   ]
  },
  {
   "cell_type": "code",
   "execution_count": 116,
   "metadata": {},
   "outputs": [
    {
     "data": {
      "text/plain": [
       "['from',\n",
       " 'leechcsuncedu',\n",
       " 'jon',\n",
       " 'leech',\n",
       " 'subject',\n",
       " 'space',\n",
       " 'faq',\n",
       " '0000',\n",
       " 'constants',\n",
       " 'and',\n",
       " 'equations',\n",
       " 'archive',\n",
       " 'name',\n",
       " 'space',\n",
       " 'constants',\n",
       " 'last',\n",
       " 'modified',\n",
       " 'date',\n",
       " '000000',\n",
       " '000000',\n",
       " 'constants',\n",
       " 'and',\n",
       " 'equations',\n",
       " 'for',\n",
       " 'calculations',\n",
       " '\\n\\n    ',\n",
       " 'this',\n",
       " 'list',\n",
       " 'was',\n",
       " 'originally']"
      ]
     },
     "execution_count": 116,
     "metadata": {},
     "output_type": "execute_result"
    }
   ],
   "source": [
    "tokens_replaced = []\n",
    "\n",
    "for word in range(0, len(tokens)):\n",
    "    tokens_replaced.append(re.sub(r'[0-9]', '0', tokens[word]))\n",
    "    \n",
    "tokens_replaced = [word.lower() for word in tokens_replaced]\n",
    "\n",
    "# remove punctuation from each word\n",
    "table = str.maketrans('', '', string.punctuation)\n",
    "stripped = [w.translate(table) for w in tokens_replaced]\n",
    "stripped.remove(\"\\n\")\n",
    "stripped = list(filter(lambda a: a != '', stripped))\n",
    "stripped = list(filter(lambda a: a != '\\n', stripped))\n",
    "stripped = list(filter(lambda a: a != '\\n\\n', stripped))\n",
    "\n",
    "stripped[:30]"
   ]
  },
  {
   "cell_type": "code",
   "execution_count": 117,
   "metadata": {},
   "outputs": [],
   "source": [
    "stripped_str = ' '.join(stripped)\n",
    "\n",
    "# Make the spaCy doc obj for the sentence\n",
    "doc = nlp(stripped_str)\n",
    "\n",
    "# get words (tokens) for the sentence\n",
    "words = [w for w in doc.sents]"
   ]
  },
  {
   "cell_type": "code",
   "execution_count": null,
   "metadata": {},
   "outputs": [],
   "source": []
  },
  {
   "cell_type": "markdown",
   "metadata": {},
   "source": [
    "### Stem"
   ]
  },
  {
   "cell_type": "code",
   "execution_count": null,
   "metadata": {},
   "outputs": [],
   "source": []
  },
  {
   "cell_type": "code",
   "execution_count": null,
   "metadata": {},
   "outputs": [],
   "source": []
  },
  {
   "cell_type": "markdown",
   "metadata": {},
   "source": [
    "### POS Tag"
   ]
  },
  {
   "cell_type": "code",
   "execution_count": 119,
   "metadata": {},
   "outputs": [
    {
     "name": "stdout",
     "output_type": "stream",
     "text": [
      "\n",
      "\n",
      "\n",
      "\n",
      "\n",
      "\n",
      "\n",
      "\n",
      "\n",
      "\n"
     ]
    }
   ],
   "source": [
    "for word in doc[:10]:\n",
    "    print(word.pos_)"
   ]
  },
  {
   "cell_type": "code",
   "execution_count": null,
   "metadata": {},
   "outputs": [],
   "source": []
  },
  {
   "cell_type": "code",
   "execution_count": 42,
   "metadata": {},
   "outputs": [
    {
     "data": {
      "text/plain": [
       "['from']"
      ]
     },
     "execution_count": 42,
     "metadata": {},
     "output_type": "execute_result"
    }
   ],
   "source": [
    "import string\n",
    "import re\n",
    "\n",
    "# split into words by white space\n",
    "words = sci.split()\n",
    "\n",
    "# remove punctuation from each word\n",
    "table = str.maketrans('', '', string.punctuation)\n",
    "stripped = [w.translate(table) for w in words]\n",
    "\n",
    "# convert to lower case\n",
    "words = [word.lower() for word in stripped]\n",
    "\n",
    "# replace numbers with \"0\" (we don't care what the actual number is)\n",
    "words_replaced = []\n",
    "for word in range(0, len(words)):\n",
    "    words_replaced.append(re.sub(r'[0-9]', '0', words[word]))\n",
    "\n",
    "# sci_clean = ','.join(words_replaced)\n",
    "sci_clean = words_replaced\n",
    "sci_clean[:1]"
   ]
  },
  {
   "cell_type": "code",
   "execution_count": null,
   "metadata": {},
   "outputs": [],
   "source": []
  }
 ],
 "metadata": {
  "kernelspec": {
   "display_name": "nlp_kernel",
   "language": "python",
   "name": "nlp_kernel"
  },
  "language_info": {
   "codemirror_mode": {
    "name": "ipython",
    "version": 3
   },
   "file_extension": ".py",
   "mimetype": "text/x-python",
   "name": "python",
   "nbconvert_exporter": "python",
   "pygments_lexer": "ipython3",
   "version": "3.6.9"
  }
 },
 "nbformat": 4,
 "nbformat_minor": 2
}
