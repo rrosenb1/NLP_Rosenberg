{
 "cells": [
  {
   "cell_type": "markdown",
   "metadata": {},
   "source": [
    "It's important to tokenize text at the beginning of ML with text in order to create features.\n",
    "\n",
    "Normalization is the simplest way to reduce your set of features\n",
    "    - Ignore case\n",
    "    - Ignore numbers\n",
    "    - Remove non-alphanumeric characters\n",
    "    - Normalize white space"
   ]
  }
 ],
 "metadata": {
  "kernelspec": {
   "display_name": "nlp_kernel",
   "language": "python",
   "name": "nlp_kernel"
  },
  "language_info": {
   "codemirror_mode": {
    "name": "ipython",
    "version": 3
   },
   "file_extension": ".py",
   "mimetype": "text/x-python",
   "name": "python",
   "nbconvert_exporter": "python",
   "pygments_lexer": "ipython3",
   "version": "3.6.9"
  }
 },
 "nbformat": 4,
 "nbformat_minor": 2
}
