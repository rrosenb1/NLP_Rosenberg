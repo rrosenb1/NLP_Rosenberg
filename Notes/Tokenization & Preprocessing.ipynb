{
 "cells": [
  {
   "cell_type": "markdown",
   "metadata": {},
   "source": [
    "It's important to tokenize text at the beginning of ML with text in order to create features.\n",
    "\n",
    "Normalization is the simplest way to reduce your set of features\n",
    "    - Ignore case\n",
    "    - Ignore numbers (if you don't care about the magnitude of the numbers)\n",
    "    - Remove non-alphanumeric characters\n",
    "    - Normalize white space\n",
    "    - Unicode equivalence\n",
    "    - Stemming (Porter Stemmer algorithm)\n",
    "    \n",
    "Stemming\n",
    "    - It's super difficult to tell what is a subject, verb, adverb, etc\n",
    "    - POS Corpora is the first attempt to use to identify parts of speech\n",
    "        - Conains ~1 million labelled words\n",
    "        - Penn Treebank has 5 million tagged words with syntactic parsing\n",
    "    - Use Penn Treebank for training data\n",
    "    \n",
    "Chunking\n",
    "    - Breaking sentences into \"chunks\" - group e.g. the Noun Phrase, Verb Phrase, etc\n",
    "    \n",
    "Full syntax parsing\n",
    "    - Difficult bc there is always ambiguity in language\n",
    "\n",
    "Probabilistic Context-Free Grammar\n",
    "    - Gives a probability for each word being each part of speech\n",
    "    - Great starting point for syntactic parsing"
   ]
  }
 ],
 "metadata": {
  "kernelspec": {
   "display_name": "nlp_kernel",
   "language": "python",
   "name": "nlp_kernel"
  },
  "language_info": {
   "codemirror_mode": {
    "name": "ipython",
    "version": 3
   },
   "file_extension": ".py",
   "mimetype": "text/x-python",
   "name": "python",
   "nbconvert_exporter": "python",
   "pygments_lexer": "ipython3",
   "version": "3.6.9"
  }
 },
 "nbformat": 4,
 "nbformat_minor": 2
}
