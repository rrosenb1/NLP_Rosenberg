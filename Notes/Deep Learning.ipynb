{
 "cells": [
  {
   "cell_type": "markdown",
   "metadata": {},
   "source": [
    "Sentiment analysis\n",
    "    - Represent words as \"features\" rather than as words themselves\n",
    "    - Lists of sentiment adjectives, positive sentiment, s/t related to eating food\n",
    "        - \"horrible\" is 0.97 for sentiment\n",
    "        - \"great\" is 0.98 for positive sentiment\n",
    "        - \"food\" and \"restaurant\" are almost 1 for \"s/t related to eating food\"\n",
    "    - This is a way to define words by semantic / syntactic things\n",
    "    - This is essentially what the model is learning\n",
    "    - This is called the *embedding matrix*\n",
    "    \n",
    "Embedding Matrix\n",
    "    - Idea is to represent as much information as possible in numbers\n",
    "    - Can be extremely huge - embedding size of 20 - 300 is ok\n",
    "        - Vocabulary can be massive\n",
    "        - You have control over how many embeddings you create\n",
    "    - \"word features\" = \"distributed representation of words\" = \"word embeddings\" = \"word vectors\"\n",
    "    - Models learn:\n",
    "        - Distributed representations of words\n",
    "        - Probability function for word sequences"
   ]
  },
  {
   "cell_type": "markdown",
   "metadata": {},
   "source": [
    "Optimizations:\n",
    "        \n",
    "word2vec\n",
    "    - Open source, speeds things up super significantly\n",
    "    - because of this work, everything is now about deep learning\n",
    "    \n",
    "skip-gram model\n",
    "    - Based on maximum entropy model\n",
    "    - Like a logistic regression for more than two classes\n",
    "    - E.g. calculate the probability that \"wonderful\" comes before \"authentic\" in a sentence\n",
    "    - Very computationally expensive b/c it calculates probabilities for EVERY word combination\n",
    "\n",
    "Hierarchical Softmax\n",
    "    - Solution to skip-gram model issues\n",
    "    - Optimizes computation - evaluates Log2(# of words) nodes instead\n",
    "    \n",
    "Further optimizations\n",
    "    - Negative sampling: binary classification between a word and its context\n",
    "    - Subsampling - use fewer examples of frequent words like \"is\", \"the\", and \"a\"\n",
    "    \n",
    "All of these are how you build your word embedding matrix!"
   ]
  },
  {
   "cell_type": "markdown",
   "metadata": {},
   "source": [
    "Word vector math\n",
    "    - Cosine distance between word vectors yields a measure of similarity\n",
    "    - King and Queen are opposite on the embedding \"gender\" but are essentially the same on \"Royal\"\n",
    "        - \"Man is to woman as King is to Queen\"\n",
    "        - \"E_Queen = E_King + (E_Man - E_Woman)\"\n",
    "    - This is a way to evaluate word embeddings\n",
    "        - It also learns syntactical variation\n",
    "        - For this reason, we don't use syntactic parsers much anymore"
   ]
  },
  {
   "cell_type": "markdown",
   "metadata": {},
   "source": [
    "## Threading"
   ]
  },
  {
   "cell_type": "code",
   "execution_count": null,
   "metadata": {},
   "outputs": [],
   "source": [
    "import multiprocessing\n",
    "import datetime\n",
    "\n",
    "def preprocessing(text):\n",
    "    for i in range(100000):\n",
    "        i*i\n",
    "    return text"
   ]
  },
  {
   "cell_type": "code",
   "execution_count": null,
   "metadata": {},
   "outputs": [],
   "source": [
    "# Slow\n",
    "texts = ['text']*100000\n",
    "\n",
    "now = datetime.datetime.now()\n",
    "result = list(map(preprocessing, texts))\n",
    "print(\"Took %s\" %(datetime.datetime.now() - now))"
   ]
  },
  {
   "cell_type": "code",
   "execution_count": null,
   "metadata": {},
   "outputs": [],
   "source": [
    "# Much faster\n",
    "count = multiprocessing.cpu_count()\n",
    "print(count)\n",
    "\n",
    "pool = multiprocessing.Pool(count)\n",
    "now = datetime.datetime.now()\n",
    "result = list(pool.map(preprocessing, texts))\n",
    "print(\"Took %s\" %(datetime.datetime.now() - now))"
   ]
  }
 ],
 "metadata": {
  "kernelspec": {
   "display_name": "nlp_kernel",
   "language": "python",
   "name": "nlp_kernel"
  },
  "language_info": {
   "codemirror_mode": {
    "name": "ipython",
    "version": 3
   },
   "file_extension": ".py",
   "mimetype": "text/x-python",
   "name": "python",
   "nbconvert_exporter": "python",
   "pygments_lexer": "ipython3",
   "version": "3.6.9"
  }
 },
 "nbformat": 4,
 "nbformat_minor": 2
}
