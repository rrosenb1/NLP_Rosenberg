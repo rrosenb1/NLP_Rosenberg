{
 "cells": [
  {
   "cell_type": "code",
   "execution_count": 1,
   "metadata": {},
   "outputs": [],
   "source": [
    "import re"
   ]
  },
  {
   "cell_type": "code",
   "execution_count": 20,
   "metadata": {},
   "outputs": [],
   "source": [
    "text = '''If you need a new debit DEbit card right away, stop by a Chase branch or call us at 1-800-935-9935. \n",
    "From outside the US, call us collect at 1-405-272-9935. \n",
    "If you use TTY support, call 1-800-242-7383. Or, visit our directory.'''"
   ]
  },
  {
   "cell_type": "code",
   "execution_count": 12,
   "metadata": {},
   "outputs": [
    {
     "name": "stdout",
     "output_type": "stream",
     "text": [
      "['1-800-935-9935', '1-405-272-9935', '1-800-242-7383']\n"
     ]
    }
   ],
   "source": [
    "# Find all phone numbers in the above text\n",
    "\n",
    "p = re.compile(r\"\\b1-[0-9]{3}-[0-9]{3}-[0-9]{4}\\b\") \n",
    "    # r stands for \"raw string\" - ignores the \\ escape character\n",
    "    # \\b is a word boundary - means that there must be a space between the phone number\n",
    "    # the space boundary would be \\s+ to catch any number of spaces before the number\n",
    "print(p.findall(text))"
   ]
  },
  {
   "cell_type": "code",
   "execution_count": 14,
   "metadata": {},
   "outputs": [
    {
     "name": "stdout",
     "output_type": "stream",
     "text": [
      "['\\n', '\\n']\n"
     ]
    }
   ],
   "source": [
    "p = re.compile(\"\\\\n\") # same as re.compile(r\"\\n\")\n",
    "print(p.findall(text))"
   ]
  },
  {
   "cell_type": "code",
   "execution_count": 21,
   "metadata": {},
   "outputs": [
    {
     "name": "stdout",
     "output_type": "stream",
     "text": [
      "\"['debit', 'DEbit']\"\n"
     ]
    }
   ],
   "source": [
    "p = re.compile(r\"debit\", flags = re.IGNORECASE)\n",
    "print('\"%s\"'%p.findall(text))"
   ]
  },
  {
   "cell_type": "code",
   "execution_count": 22,
   "metadata": {},
   "outputs": [
    {
     "name": "stdout",
     "output_type": "stream",
     "text": [
      "<_sre.SRE_Match object; span=(0, 100), match='If you need a new debit DEbit card right away, st>\n"
     ]
    }
   ],
   "source": [
    "print(re.match(\".*debit.*\", text, flags = re.IGNORECASE))"
   ]
  },
  {
   "cell_type": "code",
   "execution_count": null,
   "metadata": {},
   "outputs": [],
   "source": []
  },
  {
   "cell_type": "code",
   "execution_count": null,
   "metadata": {},
   "outputs": [],
   "source": []
  }
 ],
 "metadata": {
  "kernelspec": {
   "display_name": "nlp_kernel",
   "language": "python",
   "name": "nlp_kernel"
  },
  "language_info": {
   "codemirror_mode": {
    "name": "ipython",
    "version": 3
   },
   "file_extension": ".py",
   "mimetype": "text/x-python",
   "name": "python",
   "nbconvert_exporter": "python",
   "pygments_lexer": "ipython3",
   "version": "3.6.9"
  }
 },
 "nbformat": 4,
 "nbformat_minor": 2
}
